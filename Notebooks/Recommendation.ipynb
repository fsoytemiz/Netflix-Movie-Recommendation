{
 "cells": [
  {
   "cell_type": "code",
   "execution_count": 1,
   "metadata": {},
   "outputs": [],
   "source": [
    "import pandas as pd\n",
    "import numpy as np\n",
    "import matplotlib.pyplot as plt\n",
    "import seaborn as sns\n",
    "import surprise\n",
    "from surprise.reader import Reader\n",
    "from surprise.dataset import Dataset\n",
    "from sklearn.metrics.pairwise import cosine_similarity\n",
    "import scipy.sparse as sp\n",
    "from tqdm import tqdm\n",
    "import io\n",
    "import csv"
   ]
  },
  {
   "cell_type": "markdown",
   "metadata": {},
   "source": [
    "### Read the Sparse Data"
   ]
  },
  {
   "cell_type": "code",
   "execution_count": 2,
   "metadata": {},
   "outputs": [],
   "source": [
    "sparseData = sp.load_npz('data/sparse_data.npz')"
   ]
  },
  {
   "cell_type": "markdown",
   "metadata": {},
   "source": [
    "### Sparsity of Matrix"
   ]
  },
  {
   "cell_type": "code",
   "execution_count": 3,
   "metadata": {},
   "outputs": [
    {
     "name": "stdout",
     "output_type": "stream",
     "text": [
      "Sparsity of matrix : 99.78658865580644\n"
     ]
    }
   ],
   "source": [
    "rows,cols = sparseData.shape\n",
    "non_zero_elements = sparseData.count_nonzero()\n",
    "\n",
    "print(f'Sparsity of matrix : {(1-(non_zero_elements/(rows*cols)))*100}')"
   ]
  },
  {
   "cell_type": "markdown",
   "metadata": {},
   "source": [
    "### Global Average"
   ]
  },
  {
   "cell_type": "code",
   "execution_count": 4,
   "metadata": {},
   "outputs": [
    {
     "name": "stdout",
     "output_type": "stream",
     "text": [
      "Global Average of Data: 3.604289964420661\n"
     ]
    }
   ],
   "source": [
    "globalAverageRating = sparseData.sum()/sparseData.count_nonzero()\n",
    "\n",
    "print(f'Global Average of Data: {globalAverageRating}')"
   ]
  },
  {
   "cell_type": "markdown",
   "metadata": {},
   "source": [
    "### Create a Function to get Average Rating"
   ]
  },
  {
   "cell_type": "code",
   "execution_count": 5,
   "metadata": {},
   "outputs": [],
   "source": [
    "def get_average_rating(matrix, user=True):\n",
    "    \n",
    "    if user:\n",
    "        average = matrix.sum(axis = 1)/(matrix != 0).sum(axis = 1)  # for users\n",
    "    else:\n",
    "        average = matrix.sum(axis = 0)/(matrix != 0).sum(axis = 0)  # for movies\n",
    "        \n",
    "    return average.reshape(-1, 1)"
   ]
  },
  {
   "cell_type": "markdown",
   "metadata": {},
   "source": [
    "### Average Ratng per User"
   ]
  },
  {
   "cell_type": "code",
   "execution_count": 6,
   "metadata": {},
   "outputs": [
    {
     "name": "stdout",
     "output_type": "stream",
     "text": [
      "Average rating of user 6 is 3.4185303514377\n"
     ]
    },
    {
     "name": "stderr",
     "output_type": "stream",
     "text": [
      "<ipython-input-5-8448027cd2e3>:4: RuntimeWarning: invalid value encountered in true_divide\n",
      "  average = matrix.sum(axis = 1)/(matrix != 0).sum(axis = 1)  # for users\n"
     ]
    }
   ],
   "source": [
    "averageOfUser = get_average_rating(sparseData, True)\n",
    "\n",
    "print(f'Average rating of user 6 is {averageOfUser[6][0, 0]}')"
   ]
  },
  {
   "cell_type": "markdown",
   "metadata": {},
   "source": [
    "### Average per Movie"
   ]
  },
  {
   "cell_type": "code",
   "execution_count": 7,
   "metadata": {},
   "outputs": [
    {
     "name": "stdout",
     "output_type": "stream",
     "text": [
      "Average rating of Movie 6 is 3.084396467124632\n"
     ]
    },
    {
     "name": "stderr",
     "output_type": "stream",
     "text": [
      "<ipython-input-5-8448027cd2e3>:6: RuntimeWarning: invalid value encountered in true_divide\n",
      "  average = matrix.sum(axis = 0)/(matrix != 0).sum(axis = 0)  # for movies\n"
     ]
    }
   ],
   "source": [
    "averageOfMovie = get_average_rating(sparseData, False)\n",
    "\n",
    "print(f'Average rating of Movie 6 is {averageOfMovie[6][0,0]}')"
   ]
  },
  {
   "cell_type": "markdown",
   "metadata": {},
   "source": [
    "### Movie to Movie Similarity"
   ]
  },
  {
   "cell_type": "code",
   "execution_count": 8,
   "metadata": {},
   "outputs": [],
   "source": [
    "m_msimilarity = cosine_similarity(sparseData.T, dense_output=False)"
   ]
  },
  {
   "cell_type": "code",
   "execution_count": 9,
   "metadata": {},
   "outputs": [
    {
     "name": "stdout",
     "output_type": "stream",
     "text": [
      "Movie to Movie similarity matrix shape: (17771, 17771)\n"
     ]
    }
   ],
   "source": [
    "print(f'Movie to Movie similarity matrix shape: {m_msimilarity.shape}')"
   ]
  },
  {
   "cell_type": "code",
   "execution_count": 10,
   "metadata": {},
   "outputs": [],
   "source": [
    "rows, cols, ratings = sp.find(sparseData)"
   ]
  },
  {
   "cell_type": "markdown",
   "metadata": {},
   "source": [
    "### Create a function to get sample matrix"
   ]
  },
  {
   "cell_type": "code",
   "execution_count": 11,
   "metadata": {},
   "outputs": [],
   "source": [
    "def get_sample_matrix(matrix, n_users, n_movies):\n",
    "    \n",
    "    users, movies, rating = sp.find(matrix)\n",
    "    \n",
    "    users_uniq = np.unique(users)\n",
    "    movies_uniq = np.unique(movies)\n",
    "    \n",
    "    np.random.seed(0)\n",
    "    \n",
    "    user_selected = np.random.choice(users_uniq, n_users)\n",
    "    movie_selected = np.random.choice(movies_uniq, n_movies)\n",
    "    \n",
    "    mask = np.logical_and(np.isin(users, user_selected), np.isin(movies, movie_selected))\n",
    "    \n",
    "    return sp.csr_matrix((rating[mask],(users[mask], movies[mask])))"
   ]
  },
  {
   "cell_type": "markdown",
   "metadata": {},
   "source": [
    "### Create a function to make dataframe from matrix"
   ]
  },
  {
   "cell_type": "code",
   "execution_count": 12,
   "metadata": {},
   "outputs": [],
   "source": [
    "## Utiltiy function to make dataframe from matrix\n",
    "def get_df_from_matrix(matrix):\n",
    "    \n",
    "    user, movie, rating = sp.find(matrix)\n",
    "    \n",
    "    df = {'user_id':user, 'movie_id':movie, 'rating':rating}\n",
    "    \n",
    "    return pd.DataFrame(df)"
   ]
  },
  {
   "cell_type": "markdown",
   "metadata": {},
   "source": [
    "### Preapare a Sample Matrix"
   ]
  },
  {
   "cell_type": "code",
   "execution_count": 13,
   "metadata": {},
   "outputs": [
    {
     "name": "stdout",
     "output_type": "stream",
     "text": [
      "Shape of Sample Matrix is: (2648254, 17754)\n",
      "Sparsity of Sample Matrix is: 0.9999992732857004\n"
     ]
    }
   ],
   "source": [
    "sample_matrix = get_sample_matrix(sparseData, 5000, 500)\n",
    "\n",
    "print(f'Shape of Sample Matrix is: {sample_matrix.shape}')\n",
    "print(f'Sparsity of Sample Matrix is: {1-sample_matrix.count_nonzero()/(sample_matrix.shape[0]*sample_matrix.shape[1])}')"
   ]
  },
  {
   "cell_type": "code",
   "execution_count": 14,
   "metadata": {},
   "outputs": [
    {
     "name": "stdout",
     "output_type": "stream",
     "text": [
      "Sample Matrix:   (267, 12911)\t4\n",
      "  (578, 3151)\t3\n",
      "  (578, 7125)\t4\n",
      "  (578, 9458)\t3\n",
      "  (578, 10418)\t5\n",
      "  (578, 12071)\t4\n",
      "  (578, 12075)\t5\n",
      "  (578, 12911)\t4\n",
      "  (578, 13856)\t3\n",
      "  (2003, 1145)\t1\n",
      "  (2003, 10027)\t1\n",
      "  (2003, 12299)\t2\n",
      "  (3432, 1804)\t5\n",
      "  (3432, 3151)\t1\n",
      "  (3432, 3290)\t5\n",
      "  (3432, 3742)\t5\n",
      "  (3432, 4029)\t5\n",
      "  (3432, 6195)\t4\n",
      "  (3432, 9472)\t5\n",
      "  (3432, 9625)\t5\n",
      "  (3432, 10276)\t5\n",
      "  (3432, 10729)\t5\n",
      "  (3432, 12582)\t4\n",
      "  (3432, 13546)\t5\n",
      "  (3432, 13856)\t5\n",
      "  :\t:\n",
      "  (2646462, 16793)\t5\n",
      "  (2646462, 16954)\t4\n",
      "  (2646462, 17189)\t5\n",
      "  (2646512, 1145)\t4\n",
      "  (2646512, 2452)\t3\n",
      "  (2646512, 8743)\t4\n",
      "  (2646512, 12582)\t2\n",
      "  (2646512, 13402)\t3\n",
      "  (2646512, 16954)\t3\n",
      "  (2646635, 3742)\t5\n",
      "  (2647746, 1145)\t4\n",
      "  (2647746, 1406)\t3\n",
      "  (2647746, 2452)\t5\n",
      "  (2647746, 4745)\t3\n",
      "  (2647746, 12911)\t4\n",
      "  (2647746, 14621)\t5\n",
      "  (2647746, 16954)\t5\n",
      "  (2648100, 3151)\t3\n",
      "  (2648100, 12582)\t4\n",
      "  (2648116, 13402)\t4\n",
      "  (2648253, 3290)\t3\n",
      "  (2648253, 4745)\t3\n",
      "  (2648253, 12582)\t4\n",
      "  (2648253, 14982)\t3\n",
      "  (2648253, 17127)\t4\n"
     ]
    }
   ],
   "source": [
    "print(f'Sample Matrix: {sample_matrix}')"
   ]
  },
  {
   "cell_type": "markdown",
   "metadata": {},
   "source": [
    "### Convert Sample Matrix to Dataframe"
   ]
  },
  {
   "cell_type": "code",
   "execution_count": 15,
   "metadata": {},
   "outputs": [
    {
     "name": "stdout",
     "output_type": "stream",
     "text": [
      "Sample Dataframe is..\n",
      "   user_id  movie_id  rating\n",
      "0  1198173        54       3\n",
      "1  1273033        54       2\n",
      "2  1881088        54       3\n",
      "3  1952829        54       3\n",
      "4  1144190       109       2\n"
     ]
    }
   ],
   "source": [
    "sample_df = get_df_from_matrix(sample_matrix)\n",
    "\n",
    "print('Sample Dataframe is..')\n",
    "print(sample_df.head())"
   ]
  },
  {
   "cell_type": "code",
   "execution_count": 16,
   "metadata": {},
   "outputs": [],
   "source": [
    "# sample_df.to_csv('data/sample_rating.csv')\n",
    "# sp.save_npz('data/sample_matrix.npz', sample_matrix)"
   ]
  },
  {
   "cell_type": "markdown",
   "metadata": {},
   "source": [
    "# Train Test Split"
   ]
  },
  {
   "cell_type": "code",
   "execution_count": 17,
   "metadata": {},
   "outputs": [],
   "source": [
    "from sklearn.model_selection import train_test_split\n",
    "\n",
    "train_df, test_df = train_test_split(sample_df, test_size=0.2, random_state=0)"
   ]
  },
  {
   "cell_type": "code",
   "execution_count": 18,
   "metadata": {},
   "outputs": [],
   "source": [
    "reader = Reader(rating_scale=(1, 5))\n",
    "\n",
    "train_data = Dataset.load_from_df(train_df[['user_id', 'movie_id', 'rating']], reader)\n",
    "test_data = Dataset.load_from_df(test_df[['user_id', 'movie_id', 'rating']], reader)\n",
    "\n",
    "trainset = train_data.build_full_trainset()\n",
    "testset = test_data.build_full_trainset()\n",
    "testset = testset.build_testset()"
   ]
  },
  {
   "cell_type": "code",
   "execution_count": 19,
   "metadata": {},
   "outputs": [
    {
     "name": "stdout",
     "output_type": "stream",
     "text": [
      "       user_id  movie_id  rating\n",
      "13695  1032298      7745       3\n",
      "19383   792958     10906       4\n",
      "5969   2518644      2452       5\n",
      "18172  1995860     10162       3\n",
      "22455   904391     12299       2\n",
      "9607    413930      4745       4\n",
      "23381   365293     12582       5\n",
      "8555   1301819      3569       3\n",
      "28414    47165     14621       3\n",
      "7911    629859      3290       5\n"
     ]
    }
   ],
   "source": [
    "print(train_df.head(10))"
   ]
  },
  {
   "cell_type": "code",
   "execution_count": 20,
   "metadata": {},
   "outputs": [
    {
     "name": "stdout",
     "output_type": "stream",
     "text": [
      "       user_id  movie_id  rating\n",
      "4131   1022254      2395       3\n",
      "23594   719725     12582       4\n",
      "28860   858589     14621       4\n",
      "19615  1712855     10906       3\n",
      "30966   717135     16793       4\n",
      "18321   858589     10276       4\n",
      "25620  1498624     12911       4\n",
      "7418   2014479      3151       5\n",
      "30207  1455755     15530       5\n",
      "33407   516343     17189       5\n"
     ]
    }
   ],
   "source": [
    "print(test_df.head(10))"
   ]
  },
  {
   "cell_type": "markdown",
   "metadata": {},
   "source": [
    "# Surprise Model"
   ]
  },
  {
   "cell_type": "code",
   "execution_count": 21,
   "metadata": {},
   "outputs": [
    {
     "name": "stdout",
     "output_type": "stream",
     "text": [
      "Estimating biases using als...\n",
      "Computing the cosine similarity matrix...\n",
      "Done computing similarity matrix.\n",
      "Estimating biases using als...\n",
      "Computing the cosine similarity matrix...\n",
      "Done computing similarity matrix.\n",
      "Estimating biases using als...\n",
      "Computing the cosine similarity matrix...\n",
      "Done computing similarity matrix.\n",
      "Estimating biases using als...\n",
      "Computing the cosine similarity matrix...\n",
      "Done computing similarity matrix.\n",
      "Computing the cosine similarity matrix...\n",
      "Done computing similarity matrix.\n",
      "Computing the cosine similarity matrix...\n",
      "Done computing similarity matrix.\n",
      "Computing the cosine similarity matrix...\n",
      "Done computing similarity matrix.\n",
      "Computing the cosine similarity matrix...\n",
      "Done computing similarity matrix.\n",
      "Computing the cosine similarity matrix...\n",
      "Done computing similarity matrix.\n",
      "Computing the cosine similarity matrix...\n",
      "Done computing similarity matrix.\n",
      "Computing the cosine similarity matrix...\n",
      "Done computing similarity matrix.\n",
      "Computing the cosine similarity matrix...\n",
      "Done computing similarity matrix.\n",
      "Computing the cosine similarity matrix...\n",
      "Done computing similarity matrix.\n",
      "Computing the cosine similarity matrix...\n",
      "Done computing similarity matrix.\n",
      "Computing the cosine similarity matrix...\n",
      "Done computing similarity matrix.\n",
      "Computing the cosine similarity matrix...\n",
      "Done computing similarity matrix.\n",
      "Estimating biases using als...\n",
      "Estimating biases using als...\n",
      "Estimating biases using als...\n",
      "Estimating biases using als...\n"
     ]
    }
   ],
   "source": [
    "from surprise.model_selection.validation import cross_validate\n",
    "from surprise.prediction_algorithms.random_pred import NormalPredictor\n",
    "from surprise.prediction_algorithms.baseline_only import BaselineOnly\n",
    "from surprise.prediction_algorithms.knns import KNNBasic\n",
    "from surprise.prediction_algorithms.knns import KNNWithMeans, KNNWithZScore, KNNBaseline\n",
    "from surprise.prediction_algorithms.matrix_factorization import SVD, SVDpp, NMF\n",
    "from surprise.prediction_algorithms.slope_one import SlopeOne\n",
    "from surprise.prediction_algorithms.co_clustering import CoClustering\n",
    "from surprise import accuracy\n",
    "\n",
    "\n",
    "sim_options = {'name': 'cosine'}\n",
    "\n",
    "benchmark = []\n",
    "# Iterate over all algorithms\n",
    "for algorithm in [SVD(), SVDpp(), SlopeOne(), NormalPredictor(), KNNBaseline(sim_options=sim_options), KNNBasic(sim_options=sim_options), KNNWithMeans(sim_options=sim_options), KNNWithZScore(sim_options=sim_options), BaselineOnly()]:#, NMF() CoClustering()]:\n",
    "    # Perform cross validation\n",
    "    results = cross_validate(algorithm, train_data, measures=['RMSE'], cv=3, verbose=False)\n",
    "    algorithm.fit(trainset)\n",
    "    rmse = accuracy.rmse(algorithm.test(testset), verbose=False)\n",
    "    predictions = algorithm.test(testset)\n",
    "    \n",
    "    # Get results & append algorithm name\n",
    "    results['extra_test'] = rmse\n",
    "    tmp = pd.DataFrame.from_dict(results).mean(axis=0)\n",
    "    tmp = tmp.append(pd.Series([str(algorithm).split(' ')[0].split('.')[-1]], index=['Algorithm']))\n",
    "    benchmark.append(tmp)"
   ]
  },
  {
   "cell_type": "code",
   "execution_count": 22,
   "metadata": {},
   "outputs": [
    {
     "data": {
      "text/html": [
       "<div>\n",
       "<style scoped>\n",
       "    .dataframe tbody tr th:only-of-type {\n",
       "        vertical-align: middle;\n",
       "    }\n",
       "\n",
       "    .dataframe tbody tr th {\n",
       "        vertical-align: top;\n",
       "    }\n",
       "\n",
       "    .dataframe thead th {\n",
       "        text-align: right;\n",
       "    }\n",
       "</style>\n",
       "<table border=\"1\" class=\"dataframe\">\n",
       "  <thead>\n",
       "    <tr style=\"text-align: right;\">\n",
       "      <th></th>\n",
       "      <th>test_rmse</th>\n",
       "      <th>fit_time</th>\n",
       "      <th>test_time</th>\n",
       "      <th>extra_test</th>\n",
       "    </tr>\n",
       "    <tr>\n",
       "      <th>Algorithm</th>\n",
       "      <th></th>\n",
       "      <th></th>\n",
       "      <th></th>\n",
       "      <th></th>\n",
       "    </tr>\n",
       "  </thead>\n",
       "  <tbody>\n",
       "    <tr>\n",
       "      <th>SVDpp</th>\n",
       "      <td>0.957594</td>\n",
       "      <td>5.943390</td>\n",
       "      <td>0.350761</td>\n",
       "      <td>0.946693</td>\n",
       "    </tr>\n",
       "    <tr>\n",
       "      <th>BaselineOnly</th>\n",
       "      <td>0.967777</td>\n",
       "      <td>0.036974</td>\n",
       "      <td>0.069207</td>\n",
       "      <td>0.963642</td>\n",
       "    </tr>\n",
       "    <tr>\n",
       "      <th>SVD</th>\n",
       "      <td>0.973234</td>\n",
       "      <td>1.424823</td>\n",
       "      <td>0.133416</td>\n",
       "      <td>0.970545</td>\n",
       "    </tr>\n",
       "    <tr>\n",
       "      <th>KNNBaseline</th>\n",
       "      <td>0.979657</td>\n",
       "      <td>4.340167</td>\n",
       "      <td>3.085365</td>\n",
       "      <td>0.971751</td>\n",
       "    </tr>\n",
       "    <tr>\n",
       "      <th>KNNBasic</th>\n",
       "      <td>1.023521</td>\n",
       "      <td>4.300701</td>\n",
       "      <td>2.892733</td>\n",
       "      <td>1.022714</td>\n",
       "    </tr>\n",
       "    <tr>\n",
       "      <th>SlopeOne</th>\n",
       "      <td>1.033325</td>\n",
       "      <td>0.112441</td>\n",
       "      <td>0.141335</td>\n",
       "      <td>0.999597</td>\n",
       "    </tr>\n",
       "    <tr>\n",
       "      <th>KNNWithMeans</th>\n",
       "      <td>1.054333</td>\n",
       "      <td>4.104774</td>\n",
       "      <td>2.805058</td>\n",
       "      <td>1.017249</td>\n",
       "    </tr>\n",
       "    <tr>\n",
       "      <th>KNNWithZScore</th>\n",
       "      <td>1.058312</td>\n",
       "      <td>4.362696</td>\n",
       "      <td>2.886681</td>\n",
       "      <td>1.016851</td>\n",
       "    </tr>\n",
       "    <tr>\n",
       "      <th>NormalPredictor</th>\n",
       "      <td>1.456048</td>\n",
       "      <td>0.027790</td>\n",
       "      <td>0.082906</td>\n",
       "      <td>1.453744</td>\n",
       "    </tr>\n",
       "  </tbody>\n",
       "</table>\n",
       "</div>"
      ],
      "text/plain": [
       "                 test_rmse  fit_time  test_time  extra_test\n",
       "Algorithm                                                  \n",
       "SVDpp             0.957594  5.943390   0.350761    0.946693\n",
       "BaselineOnly      0.967777  0.036974   0.069207    0.963642\n",
       "SVD               0.973234  1.424823   0.133416    0.970545\n",
       "KNNBaseline       0.979657  4.340167   3.085365    0.971751\n",
       "KNNBasic          1.023521  4.300701   2.892733    1.022714\n",
       "SlopeOne          1.033325  0.112441   0.141335    0.999597\n",
       "KNNWithMeans      1.054333  4.104774   2.805058    1.017249\n",
       "KNNWithZScore     1.058312  4.362696   2.886681    1.016851\n",
       "NormalPredictor   1.456048  0.027790   0.082906    1.453744"
      ]
     },
     "execution_count": 22,
     "metadata": {},
     "output_type": "execute_result"
    }
   ],
   "source": [
    "pd.DataFrame(benchmark).set_index('Algorithm').sort_values('test_rmse') "
   ]
  },
  {
   "cell_type": "markdown",
   "metadata": {},
   "source": [
    "# Regression Model"
   ]
  },
  {
   "cell_type": "code",
   "execution_count": 23,
   "metadata": {},
   "outputs": [
    {
     "name": "stdout",
     "output_type": "stream",
     "text": [
      "       user_id  movie_id  rating\n",
      "13695  1032298      7745       3\n",
      "19383   792958     10906       4\n",
      "5969   2518644      2452       5\n",
      "18172  1995860     10162       3\n",
      "22455   904391     12299       2\n",
      "9607    413930      4745       4\n",
      "23381   365293     12582       5\n",
      "8555   1301819      3569       3\n",
      "28414    47165     14621       3\n",
      "7911    629859      3290       5\n"
     ]
    }
   ],
   "source": [
    "print(train_df.head(10))"
   ]
  },
  {
   "cell_type": "code",
   "execution_count": 24,
   "metadata": {},
   "outputs": [
    {
     "name": "stdout",
     "output_type": "stream",
     "text": [
      "       user_id  movie_id  rating\n",
      "4131   1022254      2395       3\n",
      "23594   719725     12582       4\n",
      "28860   858589     14621       4\n",
      "19615  1712855     10906       3\n",
      "30966   717135     16793       4\n",
      "18321   858589     10276       4\n",
      "25620  1498624     12911       4\n",
      "7418   2014479      3151       5\n",
      "30207  1455755     15530       5\n",
      "33407   516343     17189       5\n"
     ]
    }
   ],
   "source": [
    "print(test_df.head(10))"
   ]
  },
  {
   "cell_type": "markdown",
   "metadata": {},
   "source": [
    "# Movie to Movie Similarity"
   ]
  },
  {
   "cell_type": "code",
   "execution_count": 25,
   "metadata": {},
   "outputs": [
    {
     "name": "stdout",
     "output_type": "stream",
     "text": [
      "  (54, 16954)\t0.006260858582095146\n",
      "  (54, 14193)\t0.04356068418690321\n",
      "  (54, 11701)\t0.014813595639006074\n",
      "  (54, 11199)\t0.034092865808321576\n",
      "  (54, 9097)\t0.016652025488231394\n",
      "  (54, 8743)\t0.009177735043308844\n",
      "  (54, 5861)\t0.03305245869744102\n",
      "  (54, 4570)\t0.010638899909514296\n",
      "  (54, 3290)\t0.013038412858810782\n",
      "  (54, 1492)\t0.07265392195447241\n",
      "  (54, 1289)\t0.019274180271486575\n",
      "  (54, 564)\t0.04836543252561524\n",
      "  (54, 17189)\t0.03137958578492142\n",
      "  (54, 17446)\t0.052119752405704295\n",
      "  (54, 16149)\t0.05768430838909743\n",
      "  (54, 15717)\t0.05625192270599867\n",
      "  (54, 15530)\t0.0156847067205133\n",
      "  (54, 14425)\t0.04249765015149823\n",
      "  (54, 13407)\t0.18481233109010922\n",
      "  (54, 11245)\t0.09274777915203367\n",
      "  (54, 10111)\t0.03608178183615071\n",
      "  (54, 10027)\t0.013828299047000897\n",
      "  (54, 9472)\t0.032913419928086204\n",
      "  (54, 9240)\t0.009256283823191798\n",
      "  (54, 7757)\t0.01974068740244427\n",
      "  :\t:\n",
      "  (17701, 2763)\t0.08349429836577887\n",
      "  (17701, 2452)\t0.06905162900903714\n",
      "  (17701, 2395)\t0.060959267885914464\n",
      "  (17701, 2137)\t0.11770525672905457\n",
      "  (17701, 1536)\t0.07480229814890786\n",
      "  (17701, 1406)\t0.034174903966427424\n",
      "  (17701, 1314)\t0.03470489227405714\n",
      "  (17701, 1289)\t0.014432790280606343\n",
      "  (17701, 1200)\t0.06306259967939386\n",
      "  (17701, 1145)\t0.027379347341308972\n",
      "  (17701, 1047)\t0.08332931778343104\n",
      "  (17701, 564)\t0.09312878252913548\n",
      "  (17701, 524)\t0.09753317559326702\n",
      "  (17701, 472)\t0.153704111387796\n",
      "  (17701, 424)\t0.0762351227030649\n",
      "  (17753, 17753)\t1.0\n",
      "  (17753, 17326)\t0.6246950475544243\n",
      "  (17753, 16793)\t0.03998600734571513\n",
      "  (17753, 16208)\t0.2917299829957891\n",
      "  (17753, 14982)\t0.06085806194501846\n",
      "  (17753, 13358)\t0.15811388300841897\n",
      "  (17753, 12911)\t0.0202813843734193\n",
      "  (17753, 8537)\t0.6255432421712244\n",
      "  (17753, 3085)\t0.07240486142559965\n",
      "  (17753, 1145)\t0.0155742269790441\n"
     ]
    }
   ],
   "source": [
    "m2m_similarity = cosine_similarity(sample_matrix.T, dense_output = False)\n",
    "\n",
    "print(m2m_similarity)"
   ]
  },
  {
   "cell_type": "markdown",
   "metadata": {},
   "source": [
    "### Create a function to repare fwatured data"
   ]
  },
  {
   "cell_type": "code",
   "execution_count": 26,
   "metadata": {},
   "outputs": [],
   "source": [
    "def feature_train_data(df, sample_matrix):\n",
    "    \n",
    "    df.reset_index(drop=True, inplace=True)\n",
    "    u_ratings = []\n",
    "    m_ratings = []\n",
    "    movieGlobalAverage = []\n",
    "    userGlobalAverage = []\n",
    "    #print(df)\n",
    "    for i in tqdm(range(len(df))):\n",
    "        user_id = df['user_id'][i]\n",
    "        movie_id = df['movie_id'][i]\n",
    "        \n",
    "        movieGlobalAverage.append(averageOfMovie[movie_id][0, 0])\n",
    "        userGlobalAverage.append(averageOfUser[user_id][0, 0])\n",
    "        \n",
    "        \n",
    "        similar_user_v = cosine_similarity(sample_matrix[user_id], sample_matrix).ravel()\n",
    "        similar_users = similar_user_v.argsort()[::-1][1:]\n",
    "        \n",
    "        # Rating for the movie by similar users\n",
    "        rating = sample_matrix[similar_users, movie_id].toarray().ravel()\n",
    "        rating = rating[rating != 0][:5]\n",
    "        rating = np.hstack((rating,[0, 0, 0, 0, 0]))\n",
    "        rating = rating[:5]\n",
    "        \n",
    "        u_ratings.append(rating)\n",
    "        \n",
    "        similar_movie_v = m2m_similarity[movie_id].toarray().ravel()\n",
    "        \n",
    "        similar_movies = similar_movie_v.argsort()[::-1][1:]\n",
    "        \n",
    "        # Rating of user given to similar movies\n",
    "        rating = sample_matrix[user_id, similar_movies].toarray().ravel()\n",
    "        rating = rating[rating != 0][:5]\n",
    "        \n",
    "        rating = np.hstack((rating,[0, 0, 0, 0, 0]))\n",
    "        rating = rating[:5]\n",
    "        \n",
    "        m_ratings.append(rating)\n",
    "        #break\n",
    "        \n",
    "       \n",
    "    m_ratings = np.array(m_ratings)\n",
    "    u_ratings = np.array(u_ratings)\n",
    "    \n",
    "    df['sm1'] = m_ratings[:, 0]\n",
    "    df['sm2'] = m_ratings[:, 1]\n",
    "    df['sm3'] = m_ratings[:, 2]\n",
    "    df['sm4'] = m_ratings[:, 3]\n",
    "    df['sm5'] = m_ratings[:, 4]\n",
    "    \n",
    "    df['su1'] = u_ratings[:, 0]\n",
    "    df['su2'] = u_ratings[:, 1]\n",
    "    df['su3'] = u_ratings[:, 2]\n",
    "    df['su4'] = u_ratings[:, 3]\n",
    "    df['su5'] = u_ratings[:, 4]\n",
    "    \n",
    "    df['userGlobalAverage'] = userGlobalAverage\n",
    "    df['movieGlobalAverage'] = movieGlobalAverage\n",
    "        \n",
    "    return df\n",
    "        "
   ]
  },
  {
   "cell_type": "markdown",
   "metadata": {},
   "source": [
    "### Featuring Train Data"
   ]
  },
  {
   "cell_type": "code",
   "execution_count": 27,
   "metadata": {},
   "outputs": [
    {
     "name": "stdout",
     "output_type": "stream",
     "text": [
      "Train Data is Found and Loaded.\n"
     ]
    },
    {
     "data": {
      "text/html": [
       "<div>\n",
       "<style scoped>\n",
       "    .dataframe tbody tr th:only-of-type {\n",
       "        vertical-align: middle;\n",
       "    }\n",
       "\n",
       "    .dataframe tbody tr th {\n",
       "        vertical-align: top;\n",
       "    }\n",
       "\n",
       "    .dataframe thead th {\n",
       "        text-align: right;\n",
       "    }\n",
       "</style>\n",
       "<table border=\"1\" class=\"dataframe\">\n",
       "  <thead>\n",
       "    <tr style=\"text-align: right;\">\n",
       "      <th></th>\n",
       "      <th>Unnamed: 0</th>\n",
       "      <th>user_id</th>\n",
       "      <th>movie_id</th>\n",
       "      <th>rating</th>\n",
       "      <th>sm1</th>\n",
       "      <th>sm2</th>\n",
       "      <th>sm3</th>\n",
       "      <th>sm4</th>\n",
       "      <th>sm5</th>\n",
       "      <th>su1</th>\n",
       "      <th>su2</th>\n",
       "      <th>su3</th>\n",
       "      <th>su4</th>\n",
       "      <th>su5</th>\n",
       "      <th>userGlobalAverage</th>\n",
       "      <th>movieGlobalAverage</th>\n",
       "    </tr>\n",
       "  </thead>\n",
       "  <tbody>\n",
       "    <tr>\n",
       "      <th>0</th>\n",
       "      <td>0</td>\n",
       "      <td>1032298</td>\n",
       "      <td>7745</td>\n",
       "      <td>3</td>\n",
       "      <td>4</td>\n",
       "      <td>4</td>\n",
       "      <td>2</td>\n",
       "      <td>5</td>\n",
       "      <td>4</td>\n",
       "      <td>4</td>\n",
       "      <td>2</td>\n",
       "      <td>3</td>\n",
       "      <td>4</td>\n",
       "      <td>3</td>\n",
       "      <td>3.684647</td>\n",
       "      <td>4.082576</td>\n",
       "    </tr>\n",
       "    <tr>\n",
       "      <th>1</th>\n",
       "      <td>1</td>\n",
       "      <td>792958</td>\n",
       "      <td>10906</td>\n",
       "      <td>4</td>\n",
       "      <td>5</td>\n",
       "      <td>5</td>\n",
       "      <td>2</td>\n",
       "      <td>0</td>\n",
       "      <td>0</td>\n",
       "      <td>4</td>\n",
       "      <td>4</td>\n",
       "      <td>3</td>\n",
       "      <td>3</td>\n",
       "      <td>3</td>\n",
       "      <td>3.109756</td>\n",
       "      <td>3.496262</td>\n",
       "    </tr>\n",
       "    <tr>\n",
       "      <th>2</th>\n",
       "      <td>2</td>\n",
       "      <td>2518644</td>\n",
       "      <td>2452</td>\n",
       "      <td>5</td>\n",
       "      <td>4</td>\n",
       "      <td>5</td>\n",
       "      <td>3</td>\n",
       "      <td>3</td>\n",
       "      <td>4</td>\n",
       "      <td>5</td>\n",
       "      <td>5</td>\n",
       "      <td>4</td>\n",
       "      <td>5</td>\n",
       "      <td>5</td>\n",
       "      <td>3.625731</td>\n",
       "      <td>4.434708</td>\n",
       "    </tr>\n",
       "    <tr>\n",
       "      <th>3</th>\n",
       "      <td>3</td>\n",
       "      <td>1995860</td>\n",
       "      <td>10162</td>\n",
       "      <td>3</td>\n",
       "      <td>5</td>\n",
       "      <td>5</td>\n",
       "      <td>3</td>\n",
       "      <td>4</td>\n",
       "      <td>3</td>\n",
       "      <td>2</td>\n",
       "      <td>5</td>\n",
       "      <td>5</td>\n",
       "      <td>5</td>\n",
       "      <td>4</td>\n",
       "      <td>3.080985</td>\n",
       "      <td>3.985408</td>\n",
       "    </tr>\n",
       "    <tr>\n",
       "      <th>4</th>\n",
       "      <td>4</td>\n",
       "      <td>904391</td>\n",
       "      <td>12299</td>\n",
       "      <td>2</td>\n",
       "      <td>3</td>\n",
       "      <td>5</td>\n",
       "      <td>4</td>\n",
       "      <td>3</td>\n",
       "      <td>5</td>\n",
       "      <td>4</td>\n",
       "      <td>4</td>\n",
       "      <td>2</td>\n",
       "      <td>3</td>\n",
       "      <td>4</td>\n",
       "      <td>3.198358</td>\n",
       "      <td>3.646641</td>\n",
       "    </tr>\n",
       "  </tbody>\n",
       "</table>\n",
       "</div>"
      ],
      "text/plain": [
       "   Unnamed: 0  user_id  movie_id  rating  sm1  sm2  sm3  sm4  sm5  su1  su2  \\\n",
       "0           0  1032298      7745       3    4    4    2    5    4    4    2   \n",
       "1           1   792958     10906       4    5    5    2    0    0    4    4   \n",
       "2           2  2518644      2452       5    4    5    3    3    4    5    5   \n",
       "3           3  1995860     10162       3    5    5    3    4    3    2    5   \n",
       "4           4   904391     12299       2    3    5    4    3    5    4    4   \n",
       "\n",
       "   su3  su4  su5  userGlobalAverage  movieGlobalAverage  \n",
       "0    3    4    3           3.684647            4.082576  \n",
       "1    3    3    3           3.109756            3.496262  \n",
       "2    4    5    5           3.625731            4.434708  \n",
       "3    5    5    4           3.080985            3.985408  \n",
       "4    2    3    4           3.198358            3.646641  "
      ]
     },
     "execution_count": 27,
     "metadata": {},
     "output_type": "execute_result"
    }
   ],
   "source": [
    "try:\n",
    "    train_featured = pd.read_csv('data/train_featured.csv')\n",
    "    print('Train Data is Found and Loaded.')\n",
    "except:\n",
    "    print('Train Data File was missing.')\n",
    "    print('Going For complete read.')\n",
    "    train_featured = feature_train_data(train_df, sample_matrix)\n",
    "    \n",
    "    train_featured.to_csv('data/train_featured.csv')\n",
    "\n",
    "train_featured.head()"
   ]
  },
  {
   "cell_type": "code",
   "execution_count": 28,
   "metadata": {},
   "outputs": [],
   "source": [
    "X_train, y_train = train_featured.iloc[:, 4:].values, train_featured.iloc[:, 3].values"
   ]
  },
  {
   "cell_type": "markdown",
   "metadata": {},
   "source": [
    "### Featuring Test Data"
   ]
  },
  {
   "cell_type": "code",
   "execution_count": 29,
   "metadata": {},
   "outputs": [
    {
     "name": "stdout",
     "output_type": "stream",
     "text": [
      "Test Data is found and Loaded\n"
     ]
    },
    {
     "data": {
      "text/html": [
       "<div>\n",
       "<style scoped>\n",
       "    .dataframe tbody tr th:only-of-type {\n",
       "        vertical-align: middle;\n",
       "    }\n",
       "\n",
       "    .dataframe tbody tr th {\n",
       "        vertical-align: top;\n",
       "    }\n",
       "\n",
       "    .dataframe thead th {\n",
       "        text-align: right;\n",
       "    }\n",
       "</style>\n",
       "<table border=\"1\" class=\"dataframe\">\n",
       "  <thead>\n",
       "    <tr style=\"text-align: right;\">\n",
       "      <th></th>\n",
       "      <th>Unnamed: 0</th>\n",
       "      <th>user_id</th>\n",
       "      <th>movie_id</th>\n",
       "      <th>rating</th>\n",
       "      <th>sm1</th>\n",
       "      <th>sm2</th>\n",
       "      <th>sm3</th>\n",
       "      <th>sm4</th>\n",
       "      <th>sm5</th>\n",
       "      <th>su1</th>\n",
       "      <th>su2</th>\n",
       "      <th>su3</th>\n",
       "      <th>su4</th>\n",
       "      <th>su5</th>\n",
       "      <th>userGlobalAverage</th>\n",
       "      <th>movieGlobalAverage</th>\n",
       "    </tr>\n",
       "  </thead>\n",
       "  <tbody>\n",
       "    <tr>\n",
       "      <th>0</th>\n",
       "      <td>0</td>\n",
       "      <td>1022254</td>\n",
       "      <td>2395</td>\n",
       "      <td>3</td>\n",
       "      <td>4</td>\n",
       "      <td>3</td>\n",
       "      <td>4</td>\n",
       "      <td>5</td>\n",
       "      <td>5</td>\n",
       "      <td>4</td>\n",
       "      <td>3</td>\n",
       "      <td>3</td>\n",
       "      <td>4</td>\n",
       "      <td>4</td>\n",
       "      <td>3.845924</td>\n",
       "      <td>3.459608</td>\n",
       "    </tr>\n",
       "    <tr>\n",
       "      <th>1</th>\n",
       "      <td>1</td>\n",
       "      <td>719725</td>\n",
       "      <td>12582</td>\n",
       "      <td>4</td>\n",
       "      <td>4</td>\n",
       "      <td>4</td>\n",
       "      <td>4</td>\n",
       "      <td>5</td>\n",
       "      <td>4</td>\n",
       "      <td>3</td>\n",
       "      <td>4</td>\n",
       "      <td>5</td>\n",
       "      <td>4</td>\n",
       "      <td>4</td>\n",
       "      <td>3.723857</td>\n",
       "      <td>3.861750</td>\n",
       "    </tr>\n",
       "    <tr>\n",
       "      <th>2</th>\n",
       "      <td>2</td>\n",
       "      <td>858589</td>\n",
       "      <td>14621</td>\n",
       "      <td>4</td>\n",
       "      <td>3</td>\n",
       "      <td>3</td>\n",
       "      <td>2</td>\n",
       "      <td>2</td>\n",
       "      <td>4</td>\n",
       "      <td>4</td>\n",
       "      <td>5</td>\n",
       "      <td>5</td>\n",
       "      <td>3</td>\n",
       "      <td>5</td>\n",
       "      <td>3.444444</td>\n",
       "      <td>4.341956</td>\n",
       "    </tr>\n",
       "    <tr>\n",
       "      <th>3</th>\n",
       "      <td>3</td>\n",
       "      <td>1712855</td>\n",
       "      <td>10906</td>\n",
       "      <td>3</td>\n",
       "      <td>4</td>\n",
       "      <td>3</td>\n",
       "      <td>3</td>\n",
       "      <td>4</td>\n",
       "      <td>5</td>\n",
       "      <td>3</td>\n",
       "      <td>3</td>\n",
       "      <td>4</td>\n",
       "      <td>3</td>\n",
       "      <td>5</td>\n",
       "      <td>3.197652</td>\n",
       "      <td>3.496262</td>\n",
       "    </tr>\n",
       "    <tr>\n",
       "      <th>4</th>\n",
       "      <td>4</td>\n",
       "      <td>717135</td>\n",
       "      <td>16793</td>\n",
       "      <td>4</td>\n",
       "      <td>2</td>\n",
       "      <td>4</td>\n",
       "      <td>4</td>\n",
       "      <td>4</td>\n",
       "      <td>2</td>\n",
       "      <td>5</td>\n",
       "      <td>4</td>\n",
       "      <td>4</td>\n",
       "      <td>4</td>\n",
       "      <td>5</td>\n",
       "      <td>3.416462</td>\n",
       "      <td>3.925000</td>\n",
       "    </tr>\n",
       "  </tbody>\n",
       "</table>\n",
       "</div>"
      ],
      "text/plain": [
       "   Unnamed: 0  user_id  movie_id  rating  sm1  sm2  sm3  sm4  sm5  su1  su2  \\\n",
       "0           0  1022254      2395       3    4    3    4    5    5    4    3   \n",
       "1           1   719725     12582       4    4    4    4    5    4    3    4   \n",
       "2           2   858589     14621       4    3    3    2    2    4    4    5   \n",
       "3           3  1712855     10906       3    4    3    3    4    5    3    3   \n",
       "4           4   717135     16793       4    2    4    4    4    2    5    4   \n",
       "\n",
       "   su3  su4  su5  userGlobalAverage  movieGlobalAverage  \n",
       "0    3    4    4           3.845924            3.459608  \n",
       "1    5    4    4           3.723857            3.861750  \n",
       "2    5    3    5           3.444444            4.341956  \n",
       "3    4    3    5           3.197652            3.496262  \n",
       "4    4    4    5           3.416462            3.925000  "
      ]
     },
     "execution_count": 29,
     "metadata": {},
     "output_type": "execute_result"
    }
   ],
   "source": [
    "try:\n",
    "    test_featured = pd.read_csv('data/test_featured.csv')\n",
    "    print('Test Data is found and Loaded')\n",
    "except:\n",
    "    print('Test data File was missing.')\n",
    "    print('Going For Complete read')\n",
    "    test_featured = feature_train_data(test_df, sample_matrix)\n",
    "    \n",
    "    test_featured.to_csv('data/test_featured.csv')\n",
    "\n",
    "test_featured.head()"
   ]
  },
  {
   "cell_type": "code",
   "execution_count": 30,
   "metadata": {},
   "outputs": [],
   "source": [
    "X_test, y_test = test_featured.iloc[:, 4:].values, test_featured.iloc[:, 3].values"
   ]
  },
  {
   "cell_type": "code",
   "execution_count": 31,
   "metadata": {},
   "outputs": [
    {
     "data": {
      "text/plain": [
       "LinearRegression()"
      ]
     },
     "execution_count": 31,
     "metadata": {},
     "output_type": "execute_result"
    }
   ],
   "source": [
    "from sklearn.linear_model import LinearRegression\n",
    "\n",
    "model = LinearRegression()\n",
    "\n",
    "model.fit(X_train, y_train)"
   ]
  },
  {
   "cell_type": "code",
   "execution_count": 32,
   "metadata": {},
   "outputs": [
    {
     "name": "stdout",
     "output_type": "stream",
     "text": [
      "R2 for train data :0.3235282326870881\n",
      "R2 for test data :0.3267819834698753\n"
     ]
    }
   ],
   "source": [
    "print(f'R2 for train data :{model.score(X_train, y_train)}')\n",
    "print(f'R2 for test data :{model.score(X_test, y_test)}')"
   ]
  },
  {
   "cell_type": "code",
   "execution_count": 33,
   "metadata": {},
   "outputs": [
    {
     "name": "stdout",
     "output_type": "stream",
     "text": [
      "rmse for train data :0.8899744983534313\n",
      "rmse for test data :0.8913186172259664\n"
     ]
    }
   ],
   "source": [
    "from sklearn.metrics import mean_squared_error\n",
    "\n",
    "print(f'rmse for train data :{mean_squared_error(model.predict(X_train), y_train, squared=False)}')\n",
    "print(f'rmse for test data :{mean_squared_error(model.predict(X_test), y_test, squared=False)}')"
   ]
  },
  {
   "cell_type": "markdown",
   "metadata": {},
   "source": [
    "# Model Comparioson"
   ]
  },
  {
   "cell_type": "code",
   "execution_count": 34,
   "metadata": {},
   "outputs": [
    {
     "data": {
      "text/html": [
       "<div>\n",
       "<style scoped>\n",
       "    .dataframe tbody tr th:only-of-type {\n",
       "        vertical-align: middle;\n",
       "    }\n",
       "\n",
       "    .dataframe tbody tr th {\n",
       "        vertical-align: top;\n",
       "    }\n",
       "\n",
       "    .dataframe thead th {\n",
       "        text-align: right;\n",
       "    }\n",
       "</style>\n",
       "<table border=\"1\" class=\"dataframe\">\n",
       "  <thead>\n",
       "    <tr style=\"text-align: right;\">\n",
       "      <th></th>\n",
       "      <th>test_rmse</th>\n",
       "      <th>fit_time</th>\n",
       "      <th>test_time</th>\n",
       "      <th>extra_test</th>\n",
       "    </tr>\n",
       "    <tr>\n",
       "      <th>Algorithm</th>\n",
       "      <th></th>\n",
       "      <th></th>\n",
       "      <th></th>\n",
       "      <th></th>\n",
       "    </tr>\n",
       "  </thead>\n",
       "  <tbody>\n",
       "    <tr>\n",
       "      <th>SVDpp</th>\n",
       "      <td>0.957594</td>\n",
       "      <td>5.943390</td>\n",
       "      <td>0.350761</td>\n",
       "      <td>0.946693</td>\n",
       "    </tr>\n",
       "    <tr>\n",
       "      <th>BaselineOnly</th>\n",
       "      <td>0.967777</td>\n",
       "      <td>0.036974</td>\n",
       "      <td>0.069207</td>\n",
       "      <td>0.963642</td>\n",
       "    </tr>\n",
       "    <tr>\n",
       "      <th>SVD</th>\n",
       "      <td>0.973234</td>\n",
       "      <td>1.424823</td>\n",
       "      <td>0.133416</td>\n",
       "      <td>0.970545</td>\n",
       "    </tr>\n",
       "    <tr>\n",
       "      <th>KNNBaseline</th>\n",
       "      <td>0.979657</td>\n",
       "      <td>4.340167</td>\n",
       "      <td>3.085365</td>\n",
       "      <td>0.971751</td>\n",
       "    </tr>\n",
       "    <tr>\n",
       "      <th>KNNBasic</th>\n",
       "      <td>1.023521</td>\n",
       "      <td>4.300701</td>\n",
       "      <td>2.892733</td>\n",
       "      <td>1.022714</td>\n",
       "    </tr>\n",
       "    <tr>\n",
       "      <th>SlopeOne</th>\n",
       "      <td>1.033325</td>\n",
       "      <td>0.112441</td>\n",
       "      <td>0.141335</td>\n",
       "      <td>0.999597</td>\n",
       "    </tr>\n",
       "    <tr>\n",
       "      <th>KNNWithMeans</th>\n",
       "      <td>1.054333</td>\n",
       "      <td>4.104774</td>\n",
       "      <td>2.805058</td>\n",
       "      <td>1.017249</td>\n",
       "    </tr>\n",
       "    <tr>\n",
       "      <th>KNNWithZScore</th>\n",
       "      <td>1.058312</td>\n",
       "      <td>4.362696</td>\n",
       "      <td>2.886681</td>\n",
       "      <td>1.016851</td>\n",
       "    </tr>\n",
       "    <tr>\n",
       "      <th>NormalPredictor</th>\n",
       "      <td>1.456048</td>\n",
       "      <td>0.027790</td>\n",
       "      <td>0.082906</td>\n",
       "      <td>1.453744</td>\n",
       "    </tr>\n",
       "  </tbody>\n",
       "</table>\n",
       "</div>"
      ],
      "text/plain": [
       "                 test_rmse  fit_time  test_time  extra_test\n",
       "Algorithm                                                  \n",
       "SVDpp             0.957594  5.943390   0.350761    0.946693\n",
       "BaselineOnly      0.967777  0.036974   0.069207    0.963642\n",
       "SVD               0.973234  1.424823   0.133416    0.970545\n",
       "KNNBaseline       0.979657  4.340167   3.085365    0.971751\n",
       "KNNBasic          1.023521  4.300701   2.892733    1.022714\n",
       "SlopeOne          1.033325  0.112441   0.141335    0.999597\n",
       "KNNWithMeans      1.054333  4.104774   2.805058    1.017249\n",
       "KNNWithZScore     1.058312  4.362696   2.886681    1.016851\n",
       "NormalPredictor   1.456048  0.027790   0.082906    1.453744"
      ]
     },
     "execution_count": 34,
     "metadata": {},
     "output_type": "execute_result"
    }
   ],
   "source": [
    "surprise_rmse = pd.DataFrame(benchmark).set_index('Algorithm').sort_values('test_rmse') \n",
    "surprise_rmse"
   ]
  },
  {
   "cell_type": "code",
   "execution_count": 35,
   "metadata": {},
   "outputs": [
    {
     "data": {
      "text/plain": [
       "test_rmse    0.957594\n",
       "Name: SVDpp, dtype: float64"
      ]
     },
     "execution_count": 35,
     "metadata": {},
     "output_type": "execute_result"
    }
   ],
   "source": [
    "surprise_rmse.loc[\"SVDpp\",[\"test_rmse\"]]"
   ]
  },
  {
   "cell_type": "code",
   "execution_count": 36,
   "metadata": {},
   "outputs": [
    {
     "data": {
      "text/plain": [
       "0.9575940776389783"
      ]
     },
     "execution_count": 36,
     "metadata": {},
     "output_type": "execute_result"
    }
   ],
   "source": [
    "surprise_rmse.iloc[0,0]"
   ]
  },
  {
   "cell_type": "code",
   "execution_count": 37,
   "metadata": {},
   "outputs": [
    {
     "data": {
      "text/html": [
       "<div>\n",
       "<style scoped>\n",
       "    .dataframe tbody tr th:only-of-type {\n",
       "        vertical-align: middle;\n",
       "    }\n",
       "\n",
       "    .dataframe tbody tr th {\n",
       "        vertical-align: top;\n",
       "    }\n",
       "\n",
       "    .dataframe thead th {\n",
       "        text-align: right;\n",
       "    }\n",
       "</style>\n",
       "<table border=\"1\" class=\"dataframe\">\n",
       "  <thead>\n",
       "    <tr style=\"text-align: right;\">\n",
       "      <th></th>\n",
       "      <th>test_rmse</th>\n",
       "    </tr>\n",
       "  </thead>\n",
       "  <tbody>\n",
       "    <tr>\n",
       "      <th>LinearRegression</th>\n",
       "      <td>0.8913</td>\n",
       "    </tr>\n",
       "    <tr>\n",
       "      <th>SVDpp</th>\n",
       "      <td>0.9576</td>\n",
       "    </tr>\n",
       "    <tr>\n",
       "      <th>BaselineOnly</th>\n",
       "      <td>0.9678</td>\n",
       "    </tr>\n",
       "    <tr>\n",
       "      <th>SVD</th>\n",
       "      <td>0.9732</td>\n",
       "    </tr>\n",
       "    <tr>\n",
       "      <th>KNNBaseline</th>\n",
       "      <td>0.9797</td>\n",
       "    </tr>\n",
       "    <tr>\n",
       "      <th>KNNBasic</th>\n",
       "      <td>1.0235</td>\n",
       "    </tr>\n",
       "    <tr>\n",
       "      <th>SlopeOne</th>\n",
       "      <td>1.0333</td>\n",
       "    </tr>\n",
       "    <tr>\n",
       "      <th>KNNWithZScore</th>\n",
       "      <td>1.0543</td>\n",
       "    </tr>\n",
       "    <tr>\n",
       "      <th>KNNWithMeans</th>\n",
       "      <td>1.0583</td>\n",
       "    </tr>\n",
       "    <tr>\n",
       "      <th>NormalPredictor</th>\n",
       "      <td>1.4560</td>\n",
       "    </tr>\n",
       "  </tbody>\n",
       "</table>\n",
       "</div>"
      ],
      "text/plain": [
       "                  test_rmse\n",
       "LinearRegression     0.8913\n",
       "SVDpp                0.9576\n",
       "BaselineOnly         0.9678\n",
       "SVD                  0.9732\n",
       "KNNBaseline          0.9797\n",
       "KNNBasic             1.0235\n",
       "SlopeOne             1.0333\n",
       "KNNWithZScore        1.0543\n",
       "KNNWithMeans         1.0583\n",
       "NormalPredictor      1.4560"
      ]
     },
     "execution_count": 37,
     "metadata": {},
     "output_type": "execute_result"
    }
   ],
   "source": [
    "d = {\"SVDpp\"           : surprise_rmse.iloc[0,0],\n",
    "     \"BaselineOnly\"    : surprise_rmse.iloc[1,0],\n",
    "     \"SVD\"             : surprise_rmse.iloc[2,0],\n",
    "     \"KNNBaseline\"     : surprise_rmse.iloc[3,0],\n",
    "     \"KNNBasic\"        : surprise_rmse.iloc[4,0],\n",
    "     \"SlopeOne\"        : surprise_rmse.iloc[5,0],\n",
    "     \"KNNWithZScore\"   : surprise_rmse.iloc[6,0],\n",
    "     \"KNNWithMeans\"    : surprise_rmse.iloc[7,0],\n",
    "     \"NormalPredictor\" : surprise_rmse.iloc[8,0],\n",
    "     \"LinearRegression\" : mean_squared_error(model.predict(X_test), y_test, squared=False)}\n",
    "\n",
    "comparison_table = pd.DataFrame.from_dict(d, orient = \"index\")\n",
    "comparison_table.columns = [\"test_rmse\"]\n",
    "comparison_table[\"test_rmse\"] = comparison_table[\"test_rmse\"].round(4)\n",
    "comparison_table = comparison_table.sort_values([\"test_rmse\"])\n",
    "comparison_table"
   ]
  },
  {
   "cell_type": "markdown",
   "metadata": {},
   "source": [
    "# Check Users"
   ]
  },
  {
   "cell_type": "code",
   "execution_count": 38,
   "metadata": {},
   "outputs": [
    {
     "name": "stdout",
     "output_type": "stream",
     "text": [
      "user: 1032298    item: 7745       r_ui = 3.00   est = 3.78   {'was_impossible': False}\n",
      "user: 1032298    item: 7745       r_ui = 3.00   est = 3.62   {'was_impossible': False}\n",
      "user: 1032298    item: 7745       r_ui = 3.00   est = 3.69   {'was_impossible': False}\n",
      "user: 1032298    item: 7745       r_ui = 3.00   est = 4.16   {'was_impossible': False}\n",
      "Estimating biases using als...\n",
      "Computing the cosine similarity matrix...\n",
      "Done computing similarity matrix.\n",
      "user: 1032298    item: 7745       r_ui = 3.00   est = 3.88   {'actual_k': 40, 'was_impossible': False}\n",
      "Computing the cosine similarity matrix...\n",
      "Done computing similarity matrix.\n",
      "user: 1032298    item: 7745       r_ui = 3.00   est = 4.00   {'actual_k': 40, 'was_impossible': False}\n",
      "Computing the cosine similarity matrix...\n",
      "Done computing similarity matrix.\n",
      "user: 1032298    item: 7745       r_ui = 3.00   est = 3.70   {'actual_k': 40, 'was_impossible': False}\n",
      "Computing the cosine similarity matrix...\n",
      "Done computing similarity matrix.\n",
      "user: 1032298    item: 7745       r_ui = 3.00   est = 3.71   {'actual_k': 40, 'was_impossible': False}\n",
      "Estimating biases using als...\n",
      "user: 1032298    item: 7745       r_ui = 3.00   est = 3.96   {'was_impossible': False}\n"
     ]
    }
   ],
   "source": [
    "uid = int(1032298)\n",
    "mid = int(7745)\n",
    "\n",
    "my_pred = []\n",
    "# get a prediction fo specific usr and movie.\n",
    "for i, algorithm in enumerate([SVD(), SVDpp(), SlopeOne(), NormalPredictor(), KNNBaseline(sim_options=sim_options), KNNBasic(sim_options=sim_options), KNNWithMeans(sim_options=sim_options), KNNWithZScore(sim_options=sim_options), BaselineOnly()]):#, NMF() CoClustering()]:\n",
    "    algorithm.fit(trainset)\n",
    "    pred = algorithm.predict(uid, mid, r_ui = 3 , verbose = True)\n",
    "    algo_names = [\"SVD\", \"SVDpp\", \"SlopeOne\", \"NormalPredictor\", \"KNNBaseline\", \"KNNBasic\", \"KNNWithMeans\", \"KNNWithZScore\", \"BaselineOnly\"]\n",
    "    df = [algo_names[i], pred]\n",
    "    my_pred.append(df)\n",
    "    \n",
    "surprise_predictions = []\n",
    "for i in my_pred:\n",
    "    df = [i[0], i[1][0], i[1][1], i[1][2], i[1][3]]\n",
    "    surprise_predictions.append(df)\n",
    "surprise_predictions_user1 = pd.DataFrame(surprise_predictions)\n",
    "surprise_predictions_user1.columns = [\"model_name\", \"user_id\", \"movie_id\", \"actual_rating\", \"predicted_rating\"]\n"
   ]
  },
  {
   "cell_type": "code",
   "execution_count": 39,
   "metadata": {},
   "outputs": [],
   "source": [
    "train_featured2 = train_featured\n",
    "train_featured2[\"model_name\"] = \"Linear Regression\"\n",
    "train_featured2[\"predicted_rating\"] = model.predict(X_train)\n",
    "train_featured2.rename(columns = {\"rating\": \"actual_rating\"}, inplace = True) \n",
    "linear_prediction_user1 = train_featured2[[\"model_name\", \"user_id\", \"movie_id\", \"actual_rating\", \"predicted_rating\"]]\n",
    "linear_prediction_user1 = linear_prediction_user1[(linear_prediction_user1[\"user_id\"] == 1032298) & (linear_prediction_user1[\"movie_id\"] == 7745)]"
   ]
  },
  {
   "cell_type": "code",
   "execution_count": 40,
   "metadata": {},
   "outputs": [
    {
     "data": {
      "text/html": [
       "<div>\n",
       "<style scoped>\n",
       "    .dataframe tbody tr th:only-of-type {\n",
       "        vertical-align: middle;\n",
       "    }\n",
       "\n",
       "    .dataframe tbody tr th {\n",
       "        vertical-align: top;\n",
       "    }\n",
       "\n",
       "    .dataframe thead th {\n",
       "        text-align: right;\n",
       "    }\n",
       "</style>\n",
       "<table border=\"1\" class=\"dataframe\">\n",
       "  <thead>\n",
       "    <tr style=\"text-align: right;\">\n",
       "      <th></th>\n",
       "      <th>model_name</th>\n",
       "      <th>user_id</th>\n",
       "      <th>movie_id</th>\n",
       "      <th>actual_rating</th>\n",
       "      <th>predicted_rating</th>\n",
       "    </tr>\n",
       "  </thead>\n",
       "  <tbody>\n",
       "    <tr>\n",
       "      <th>0</th>\n",
       "      <td>Linear Regression</td>\n",
       "      <td>1032298</td>\n",
       "      <td>7745</td>\n",
       "      <td>3</td>\n",
       "      <td>3.685386</td>\n",
       "    </tr>\n",
       "    <tr>\n",
       "      <th>1</th>\n",
       "      <td>SVD</td>\n",
       "      <td>1032298</td>\n",
       "      <td>7745</td>\n",
       "      <td>3</td>\n",
       "      <td>3.775326</td>\n",
       "    </tr>\n",
       "    <tr>\n",
       "      <th>2</th>\n",
       "      <td>SVDpp</td>\n",
       "      <td>1032298</td>\n",
       "      <td>7745</td>\n",
       "      <td>3</td>\n",
       "      <td>3.619591</td>\n",
       "    </tr>\n",
       "    <tr>\n",
       "      <th>3</th>\n",
       "      <td>SlopeOne</td>\n",
       "      <td>1032298</td>\n",
       "      <td>7745</td>\n",
       "      <td>3</td>\n",
       "      <td>3.691292</td>\n",
       "    </tr>\n",
       "    <tr>\n",
       "      <th>4</th>\n",
       "      <td>NormalPredictor</td>\n",
       "      <td>1032298</td>\n",
       "      <td>7745</td>\n",
       "      <td>3</td>\n",
       "      <td>4.162063</td>\n",
       "    </tr>\n",
       "    <tr>\n",
       "      <th>5</th>\n",
       "      <td>KNNBaseline</td>\n",
       "      <td>1032298</td>\n",
       "      <td>7745</td>\n",
       "      <td>3</td>\n",
       "      <td>3.879853</td>\n",
       "    </tr>\n",
       "    <tr>\n",
       "      <th>6</th>\n",
       "      <td>KNNBasic</td>\n",
       "      <td>1032298</td>\n",
       "      <td>7745</td>\n",
       "      <td>3</td>\n",
       "      <td>4.000000</td>\n",
       "    </tr>\n",
       "    <tr>\n",
       "      <th>7</th>\n",
       "      <td>KNNWithMeans</td>\n",
       "      <td>1032298</td>\n",
       "      <td>7745</td>\n",
       "      <td>3</td>\n",
       "      <td>3.700082</td>\n",
       "    </tr>\n",
       "    <tr>\n",
       "      <th>8</th>\n",
       "      <td>KNNWithZScore</td>\n",
       "      <td>1032298</td>\n",
       "      <td>7745</td>\n",
       "      <td>3</td>\n",
       "      <td>3.707194</td>\n",
       "    </tr>\n",
       "    <tr>\n",
       "      <th>9</th>\n",
       "      <td>BaselineOnly</td>\n",
       "      <td>1032298</td>\n",
       "      <td>7745</td>\n",
       "      <td>3</td>\n",
       "      <td>3.964127</td>\n",
       "    </tr>\n",
       "  </tbody>\n",
       "</table>\n",
       "</div>"
      ],
      "text/plain": [
       "          model_name  user_id  movie_id  actual_rating  predicted_rating\n",
       "0  Linear Regression  1032298      7745              3          3.685386\n",
       "1                SVD  1032298      7745              3          3.775326\n",
       "2              SVDpp  1032298      7745              3          3.619591\n",
       "3           SlopeOne  1032298      7745              3          3.691292\n",
       "4    NormalPredictor  1032298      7745              3          4.162063\n",
       "5        KNNBaseline  1032298      7745              3          3.879853\n",
       "6           KNNBasic  1032298      7745              3          4.000000\n",
       "7       KNNWithMeans  1032298      7745              3          3.700082\n",
       "8      KNNWithZScore  1032298      7745              3          3.707194\n",
       "9       BaselineOnly  1032298      7745              3          3.964127"
      ]
     },
     "execution_count": 40,
     "metadata": {},
     "output_type": "execute_result"
    }
   ],
   "source": [
    "user1 = linear_prediction_user1.append(surprise_predictions_user1)\n",
    "user1.reset_index().iloc[:,1:]"
   ]
  },
  {
   "cell_type": "markdown",
   "metadata": {},
   "source": [
    "# Check Recommendation System"
   ]
  },
  {
   "cell_type": "markdown",
   "metadata": {},
   "source": [
    "### Some Pre-Processing"
   ]
  },
  {
   "cell_type": "code",
   "execution_count": 41,
   "metadata": {},
   "outputs": [
    {
     "name": "stderr",
     "output_type": "stream",
     "text": [
      "17770it [00:00, 92953.93it/s]\n"
     ]
    },
    {
     "data": {
      "text/html": [
       "<div>\n",
       "<style scoped>\n",
       "    .dataframe tbody tr th:only-of-type {\n",
       "        vertical-align: middle;\n",
       "    }\n",
       "\n",
       "    .dataframe tbody tr th {\n",
       "        vertical-align: top;\n",
       "    }\n",
       "\n",
       "    .dataframe thead th {\n",
       "        text-align: right;\n",
       "    }\n",
       "</style>\n",
       "<table border=\"1\" class=\"dataframe\">\n",
       "  <thead>\n",
       "    <tr style=\"text-align: right;\">\n",
       "      <th></th>\n",
       "      <th>movie_id</th>\n",
       "      <th>release_year</th>\n",
       "      <th>movie_name</th>\n",
       "    </tr>\n",
       "  </thead>\n",
       "  <tbody>\n",
       "    <tr>\n",
       "      <th>0</th>\n",
       "      <td>1</td>\n",
       "      <td>2003</td>\n",
       "      <td>Dinosaur Planet</td>\n",
       "    </tr>\n",
       "    <tr>\n",
       "      <th>1</th>\n",
       "      <td>2</td>\n",
       "      <td>2004</td>\n",
       "      <td>Isle of Man TT 2004 Review</td>\n",
       "    </tr>\n",
       "    <tr>\n",
       "      <th>2</th>\n",
       "      <td>3</td>\n",
       "      <td>1997</td>\n",
       "      <td>Character</td>\n",
       "    </tr>\n",
       "    <tr>\n",
       "      <th>3</th>\n",
       "      <td>4</td>\n",
       "      <td>1994</td>\n",
       "      <td>Paula Abdul's Get Up &amp; Dance</td>\n",
       "    </tr>\n",
       "    <tr>\n",
       "      <th>4</th>\n",
       "      <td>5</td>\n",
       "      <td>2004</td>\n",
       "      <td>The Rise and Fall of ECW</td>\n",
       "    </tr>\n",
       "  </tbody>\n",
       "</table>\n",
       "</div>"
      ],
      "text/plain": [
       "  movie_id release_year                    movie_name\n",
       "0        1         2003               Dinosaur Planet\n",
       "1        2         2004    Isle of Man TT 2004 Review\n",
       "2        3         1997                     Character\n",
       "3        4         1994  Paula Abdul's Get Up & Dance\n",
       "4        5         2004      The Rise and Fall of ECW"
      ]
     },
     "execution_count": 41,
     "metadata": {},
     "output_type": "execute_result"
    }
   ],
   "source": [
    "with open('data/movie_titles.csv', 'r', encoding='ISO-8859-1') as file:\n",
    "    lines = csv.reader(file, delimiter=',')\n",
    "    data = []\n",
    "    for line in tqdm(lines):\n",
    "        row = {}\n",
    "        row['movie_id'] = line[0]\n",
    "        row['release_year'] = line[1]\n",
    "        row['movie_name'] = ' '.join(line[2:])\n",
    "        data.append(row)\n",
    "\n",
    "## Movies data frame to store titles.\n",
    "\n",
    "movies = pd.DataFrame(data)\n",
    "movies.head()"
   ]
  },
  {
   "cell_type": "code",
   "execution_count": 42,
   "metadata": {},
   "outputs": [],
   "source": [
    "row, column, rating = sp.find(sample_matrix)\n",
    "\n",
    "# Sort the data based on Popularity\n",
    "uniq_movie = np.unique(column)\n",
    "movies = movies.iloc[uniq_movie - 1]\n",
    "\n",
    "movie_sim = cosine_similarity(sample_matrix.T, dense_output=False)"
   ]
  },
  {
   "cell_type": "markdown",
   "metadata": {},
   "source": [
    "### Create a Function to Predict Rating"
   ]
  },
  {
   "cell_type": "code",
   "execution_count": 43,
   "metadata": {},
   "outputs": [],
   "source": [
    "def predict_rating(movieid, userarray, similar_users):\n",
    "\n",
    "        # returns: numeric rating\n",
    "\n",
    "        user_global = userarray.sum()/np.count_nonzero(userarray)\n",
    "        movie_global = sample_matrix[:, movieid].sum()/sample_matrix[:, movieid].count_nonzero()\n",
    "\n",
    "        similar_movies = movie_sim[movieid].toarray().ravel().argsort()[::-1][1:]\n",
    "\n",
    "        movie_ratings = sample_matrix[similar_users, movieid].toarray().ravel()\n",
    "        movie_ratings = movie_ratings[movie_ratings != 0][:5]\n",
    "        movie_ratings = np.hstack((movie_ratings, [0, 0, 0, 0, 0]))\n",
    "        movie_ratings = movie_ratings[:5]\n",
    "\n",
    "        user_ratings = userarray[similar_movies]\n",
    "        user_ratings = user_ratings[user_ratings != 0][:5]\n",
    "        user_ratings = np.hstack((user_ratings, [0, 0, 0, 0, 0]))\n",
    "        user_ratings = user_ratings[:5]\n",
    "\n",
    "        features = np.hstack((movie_ratings, user_ratings, [user_global, movie_global]))\n",
    "        rating = model.predict([features])\n",
    "\n",
    "        return rating[0]"
   ]
  },
  {
   "cell_type": "markdown",
   "metadata": {},
   "source": [
    "### Create a Funtion to Get Recommendation"
   ]
  },
  {
   "cell_type": "code",
   "execution_count": 44,
   "metadata": {},
   "outputs": [],
   "source": [
    "def recommendation(user_id, number):\n",
    "\n",
    "        # user: An array which contains ratings given by user to some Movies.\n",
    "        # number: How much results you want\n",
    "        # return: a List of recommended Movies.\n",
    "        \n",
    "    movie_box = []\n",
    "    if not user_id in row:\n",
    "        \n",
    "        return 'User is not in dataset'\n",
    "\n",
    "    user = sample_matrix[user_id].toarray().ravel()\n",
    "\n",
    "    similar_users = cosine_similarity([user], sample_matrix).ravel().argsort()[::-1][1:]\n",
    "\n",
    "    for movie in uniq_movie:\n",
    "        if user[movie] == 0:\n",
    "            rating = predict_rating(movie, np.array(user), similar_users)\n",
    "            movie_box.append((rating, movie))\n",
    "\n",
    "    movie_box.sort(reverse=True)\n",
    "    array_index = np.array([item[1] for item in movie_box])\n",
    "\n",
    "    temp = movies.copy()\n",
    "    temp['rating'] = [0]*len(temp)\n",
    "    for item in movie_box:\n",
    "        temp.loc[item[1] - 1, 'rating'] = round(item[0], 0)\n",
    "    df = pd.DataFrame(temp.loc[array_index - 1].values.tolist()[:number])\n",
    "    df.columns = [\"movie_id\", \"release_year\", \"movie_name\", \"predicted_rating\"]\n",
    "\n",
    "    return df"
   ]
  },
  {
   "cell_type": "code",
   "execution_count": 45,
   "metadata": {},
   "outputs": [
    {
     "data": {
      "text/html": [
       "<div>\n",
       "<style scoped>\n",
       "    .dataframe tbody tr th:only-of-type {\n",
       "        vertical-align: middle;\n",
       "    }\n",
       "\n",
       "    .dataframe tbody tr th {\n",
       "        vertical-align: top;\n",
       "    }\n",
       "\n",
       "    .dataframe thead th {\n",
       "        text-align: right;\n",
       "    }\n",
       "</style>\n",
       "<table border=\"1\" class=\"dataframe\">\n",
       "  <thead>\n",
       "    <tr style=\"text-align: right;\">\n",
       "      <th></th>\n",
       "      <th>movie_id</th>\n",
       "      <th>release_year</th>\n",
       "      <th>movie_name</th>\n",
       "      <th>predicted_rating</th>\n",
       "    </tr>\n",
       "  </thead>\n",
       "  <tbody>\n",
       "    <tr>\n",
       "      <th>0</th>\n",
       "      <td>14791</td>\n",
       "      <td>2003</td>\n",
       "      <td>Trailer Park Boys: Season 3</td>\n",
       "      <td>5.0</td>\n",
       "    </tr>\n",
       "    <tr>\n",
       "      <th>1</th>\n",
       "      <td>8129</td>\n",
       "      <td>1971</td>\n",
       "      <td>Little Murders</td>\n",
       "      <td>5.0</td>\n",
       "    </tr>\n",
       "    <tr>\n",
       "      <th>2</th>\n",
       "      <td>2811</td>\n",
       "      <td>1990</td>\n",
       "      <td>Roger Waters: The Wall: Live in Berlin</td>\n",
       "      <td>5.0</td>\n",
       "    </tr>\n",
       "    <tr>\n",
       "      <th>3</th>\n",
       "      <td>5888</td>\n",
       "      <td>1986</td>\n",
       "      <td>Cheers: Season 5</td>\n",
       "      <td>5.0</td>\n",
       "    </tr>\n",
       "    <tr>\n",
       "      <th>4</th>\n",
       "      <td>11545</td>\n",
       "      <td>2001</td>\n",
       "      <td>The Blair Thumb</td>\n",
       "      <td>5.0</td>\n",
       "    </tr>\n",
       "    <tr>\n",
       "      <th>5</th>\n",
       "      <td>10390</td>\n",
       "      <td>2003</td>\n",
       "      <td>Midsomer Murders: Painted in Blood</td>\n",
       "      <td>5.0</td>\n",
       "    </tr>\n",
       "    <tr>\n",
       "      <th>6</th>\n",
       "      <td>6490</td>\n",
       "      <td>2004</td>\n",
       "      <td>Dream Theater: Images and Words: Live in Tokyo...</td>\n",
       "      <td>5.0</td>\n",
       "    </tr>\n",
       "    <tr>\n",
       "      <th>7</th>\n",
       "      <td>9148</td>\n",
       "      <td>1991</td>\n",
       "      <td>A Night at the Opera</td>\n",
       "      <td>5.0</td>\n",
       "    </tr>\n",
       "    <tr>\n",
       "      <th>8</th>\n",
       "      <td>14640</td>\n",
       "      <td>2002</td>\n",
       "      <td>Rugrats: Mysteries</td>\n",
       "      <td>4.0</td>\n",
       "    </tr>\n",
       "    <tr>\n",
       "      <th>9</th>\n",
       "      <td>7429</td>\n",
       "      <td>2000</td>\n",
       "      <td>The Most Terrible Time in My Life</td>\n",
       "      <td>4.0</td>\n",
       "    </tr>\n",
       "  </tbody>\n",
       "</table>\n",
       "</div>"
      ],
      "text/plain": [
       "  movie_id release_year                                         movie_name  \\\n",
       "0    14791         2003                        Trailer Park Boys: Season 3   \n",
       "1     8129         1971                                     Little Murders   \n",
       "2     2811         1990             Roger Waters: The Wall: Live in Berlin   \n",
       "3     5888         1986                                   Cheers: Season 5   \n",
       "4    11545         2001                                    The Blair Thumb   \n",
       "5    10390         2003                 Midsomer Murders: Painted in Blood   \n",
       "6     6490         2004  Dream Theater: Images and Words: Live in Tokyo...   \n",
       "7     9148         1991                               A Night at the Opera   \n",
       "8    14640         2002                                 Rugrats: Mysteries   \n",
       "9     7429         2000                  The Most Terrible Time in My Life   \n",
       "\n",
       "   predicted_rating  \n",
       "0               5.0  \n",
       "1               5.0  \n",
       "2               5.0  \n",
       "3               5.0  \n",
       "4               5.0  \n",
       "5               5.0  \n",
       "6               5.0  \n",
       "7               5.0  \n",
       "8               4.0  \n",
       "9               4.0  "
      ]
     },
     "execution_count": 45,
     "metadata": {},
     "output_type": "execute_result"
    }
   ],
   "source": [
    "recommendation(578, 10)"
   ]
  },
  {
   "cell_type": "code",
   "execution_count": null,
   "metadata": {},
   "outputs": [],
   "source": []
  },
  {
   "cell_type": "code",
   "execution_count": null,
   "metadata": {},
   "outputs": [],
   "source": []
  }
 ],
 "metadata": {
  "kernelspec": {
   "display_name": "Python 3",
   "language": "python",
   "name": "python3"
  },
  "language_info": {
   "codemirror_mode": {
    "name": "ipython",
    "version": 3
   },
   "file_extension": ".py",
   "mimetype": "text/x-python",
   "name": "python",
   "nbconvert_exporter": "python",
   "pygments_lexer": "ipython3",
   "version": "3.9.2"
  }
 },
 "nbformat": 4,
 "nbformat_minor": 4
}
