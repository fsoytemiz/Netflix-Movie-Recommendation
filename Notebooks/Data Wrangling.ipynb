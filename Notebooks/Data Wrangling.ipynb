{
 "cells": [
  {
   "cell_type": "markdown",
   "metadata": {},
   "source": [
    "# Import"
   ]
  },
  {
   "cell_type": "code",
   "execution_count": 1,
   "metadata": {},
   "outputs": [],
   "source": [
    "import pandas as pd\n",
    "import numpy as np\n",
    "import matplotlib.pyplot as plt\n",
    "import seaborn as sns\n",
    "import surprise\n",
    "from surprise.reader import Reader\n",
    "from surprise.dataset import Dataset\n",
    "from sklearn.metrics.pairwise import cosine_similarity\n",
    "import scipy.sparse as sp\n",
    "from tqdm import tqdm\n",
    "import io\n",
    "import csv"
   ]
  },
  {
   "cell_type": "markdown",
   "metadata": {},
   "source": [
    "# Read Movie Titles"
   ]
  },
  {
   "cell_type": "code",
   "execution_count": 2,
   "metadata": {},
   "outputs": [
    {
     "name": "stderr",
     "output_type": "stream",
     "text": [
      "17770it [00:00, 158718.84it/s]\n"
     ]
    },
    {
     "data": {
      "text/html": [
       "<div>\n",
       "<style scoped>\n",
       "    .dataframe tbody tr th:only-of-type {\n",
       "        vertical-align: middle;\n",
       "    }\n",
       "\n",
       "    .dataframe tbody tr th {\n",
       "        vertical-align: top;\n",
       "    }\n",
       "\n",
       "    .dataframe thead th {\n",
       "        text-align: right;\n",
       "    }\n",
       "</style>\n",
       "<table border=\"1\" class=\"dataframe\">\n",
       "  <thead>\n",
       "    <tr style=\"text-align: right;\">\n",
       "      <th></th>\n",
       "      <th>movie_id</th>\n",
       "      <th>release_year</th>\n",
       "      <th>movie_name</th>\n",
       "    </tr>\n",
       "  </thead>\n",
       "  <tbody>\n",
       "    <tr>\n",
       "      <th>0</th>\n",
       "      <td>1</td>\n",
       "      <td>2003</td>\n",
       "      <td>Dinosaur Planet</td>\n",
       "    </tr>\n",
       "    <tr>\n",
       "      <th>1</th>\n",
       "      <td>2</td>\n",
       "      <td>2004</td>\n",
       "      <td>Isle of Man TT 2004 Review</td>\n",
       "    </tr>\n",
       "    <tr>\n",
       "      <th>2</th>\n",
       "      <td>3</td>\n",
       "      <td>1997</td>\n",
       "      <td>Character</td>\n",
       "    </tr>\n",
       "    <tr>\n",
       "      <th>3</th>\n",
       "      <td>4</td>\n",
       "      <td>1994</td>\n",
       "      <td>Paula Abdul's Get Up &amp; Dance</td>\n",
       "    </tr>\n",
       "    <tr>\n",
       "      <th>4</th>\n",
       "      <td>5</td>\n",
       "      <td>2004</td>\n",
       "      <td>The Rise and Fall of ECW</td>\n",
       "    </tr>\n",
       "  </tbody>\n",
       "</table>\n",
       "</div>"
      ],
      "text/plain": [
       "  movie_id release_year                    movie_name\n",
       "0        1         2003               Dinosaur Planet\n",
       "1        2         2004    Isle of Man TT 2004 Review\n",
       "2        3         1997                     Character\n",
       "3        4         1994  Paula Abdul's Get Up & Dance\n",
       "4        5         2004      The Rise and Fall of ECW"
      ]
     },
     "execution_count": 2,
     "metadata": {},
     "output_type": "execute_result"
    }
   ],
   "source": [
    "with open('data/movie_titles.csv', 'r', encoding='ISO-8859-1') as file:\n",
    "    lines = csv.reader(file, delimiter=',')\n",
    "    data = []\n",
    "    for line in tqdm(lines):\n",
    "        row = {}\n",
    "#         print(line)\n",
    "#         line = line.strip('\\n')\n",
    "#         line = line.split(',')\n",
    "        row['movie_id'] = line[0]\n",
    "        row['release_year'] = line[1]\n",
    "        row['movie_name'] = ' '.join(line[2:])\n",
    "        data.append(row)\n",
    "\n",
    "## Movies data frame to store titles.\n",
    "\n",
    "movies = pd.DataFrame(data)\n",
    "movies.head()"
   ]
  },
  {
   "cell_type": "code",
   "execution_count": 3,
   "metadata": {},
   "outputs": [
    {
     "name": "stdout",
     "output_type": "stream",
     "text": [
      "<class 'pandas.core.frame.DataFrame'>\n",
      "RangeIndex: 17770 entries, 0 to 17769\n",
      "Data columns (total 3 columns):\n",
      " #   Column        Non-Null Count  Dtype \n",
      "---  ------        --------------  ----- \n",
      " 0   movie_id      17770 non-null  int64 \n",
      " 1   release_year  17770 non-null  object\n",
      " 2   movie_name    17770 non-null  object\n",
      "dtypes: int64(1), object(2)\n",
      "memory usage: 416.6+ KB\n"
     ]
    }
   ],
   "source": [
    "movies['movie_id'] = movies.movie_id.astype(int)\n",
    "movies.info()"
   ]
  },
  {
   "cell_type": "markdown",
   "metadata": {},
   "source": [
    "# Read Rating Data"
   ]
  },
  {
   "cell_type": "markdown",
   "metadata": {},
   "source": [
    "## Cobined Data 1"
   ]
  },
  {
   "cell_type": "code",
   "execution_count": 4,
   "metadata": {},
   "outputs": [
    {
     "name": "stderr",
     "output_type": "stream",
     "text": [
      "100%|██████████| 24058263/24058263 [00:47<00:00, 511561.25it/s]\n"
     ]
    }
   ],
   "source": [
    "with open('data/combined_data_1.txt', 'r') as file:\n",
    "    lines = file.readlines()\n",
    "    data = []\n",
    "    for line in tqdm(lines):\n",
    "        row = {}\n",
    "        line = line.strip('\\n')\n",
    "        if line.endswith(':'):\n",
    "            movieid = int(line[:-1])\n",
    "            continue\n",
    "\n",
    "        line = line.split(',')\n",
    "        row['movie_id'] = movieid\n",
    "        row['user_id'] = line[0]\n",
    "        row['rating'] = line[1]\n",
    "        row['date'] = line[2]\n",
    "\n",
    "        data.append(row)\n",
    "\n",
    "ratings = pd.DataFrame(data)\n",
    "# ratings.tail()"
   ]
  },
  {
   "cell_type": "code",
   "execution_count": 5,
   "metadata": {},
   "outputs": [
    {
     "name": "stdout",
     "output_type": "stream",
     "text": [
      "Total Movies in Dataset 4499\n",
      "Total Users in Dataset 470758\n"
     ]
    }
   ],
   "source": [
    "print(f'Total Movies in Dataset {len(ratings.movie_id.unique())}')\n",
    "print(f'Total Users in Dataset {len(ratings.user_id.unique())}')"
   ]
  },
  {
   "cell_type": "markdown",
   "metadata": {},
   "source": [
    "## Combined Data 2"
   ]
  },
  {
   "cell_type": "code",
   "execution_count": 6,
   "metadata": {},
   "outputs": [
    {
     "name": "stderr",
     "output_type": "stream",
     "text": [
      "100%|██████████| 26982302/26982302 [01:00<00:00, 444785.43it/s]\n"
     ]
    }
   ],
   "source": [
    "with open('data/combined_data_2.txt', 'r') as file:\n",
    "    lines = file.readlines()\n",
    "    data = []\n",
    "    for line in tqdm(lines):\n",
    "        row = {}\n",
    "        line = line.strip('\\n')\n",
    "        if line.endswith(':'):\n",
    "            movieid = int(line[:-1])\n",
    "            continue\n",
    "        \n",
    "        line = line.split(',')\n",
    "        row['movie_id'] = movieid\n",
    "        row['user_id'] = line[0]\n",
    "        row['rating'] = line[1]\n",
    "        row['date'] = line[2]\n",
    "        \n",
    "        data.append(row)\n",
    "\n",
    "ratings = ratings.append(pd.DataFrame(data), ignore_index=True)\n",
    "# ratings.tail()"
   ]
  },
  {
   "cell_type": "code",
   "execution_count": 7,
   "metadata": {},
   "outputs": [
    {
     "name": "stdout",
     "output_type": "stream",
     "text": [
      "Total Movies in Dataset 9210\n",
      "Total Users in Dataset 478018\n"
     ]
    }
   ],
   "source": [
    "print(f'Total Movies in Dataset {len(ratings.movie_id.unique())}')\n",
    "print(f'Total Users in Dataset {len(ratings.user_id.unique())}')"
   ]
  },
  {
   "cell_type": "markdown",
   "metadata": {},
   "source": [
    "## Combined Data 3"
   ]
  },
  {
   "cell_type": "code",
   "execution_count": 8,
   "metadata": {},
   "outputs": [
    {
     "name": "stderr",
     "output_type": "stream",
     "text": [
      "100%|██████████| 22605786/22605786 [03:42<00:00, 101824.62it/s]\n"
     ]
    }
   ],
   "source": [
    "with open('data/combined_data_3.txt', 'r') as file:\n",
    "    lines = file.readlines()\n",
    "    data = []\n",
    "    for line in tqdm(lines):\n",
    "        row = {}\n",
    "        line = line.strip('\\n')\n",
    "        if line.endswith(':'):\n",
    "            movieid = int(line[:-1])\n",
    "            continue\n",
    "        \n",
    "        line = line.split(',')\n",
    "        row['movie_id'] = movieid\n",
    "        row['user_id'] = line[0]\n",
    "        row['rating'] = line[1]\n",
    "        row['date'] = line[2]\n",
    "        \n",
    "        data.append(row)\n",
    "\n",
    "ratings = ratings.append(pd.DataFrame(data), ignore_index=True)\n",
    "# ratings.tail()"
   ]
  },
  {
   "cell_type": "code",
   "execution_count": 9,
   "metadata": {},
   "outputs": [
    {
     "name": "stdout",
     "output_type": "stream",
     "text": [
      "Total Movies in Dataset 13367\n",
      "Total Users in Dataset 479453\n"
     ]
    }
   ],
   "source": [
    "print(f'Total Movies in Dataset {len(ratings.movie_id.unique())}')\n",
    "print(f'Total Users in Dataset {len(ratings.user_id.unique())}')"
   ]
  },
  {
   "cell_type": "markdown",
   "metadata": {},
   "source": [
    "## Combined Data 4"
   ]
  },
  {
   "cell_type": "code",
   "execution_count": 10,
   "metadata": {},
   "outputs": [
    {
     "name": "stderr",
     "output_type": "stream",
     "text": [
      "100%|██████████| 26851926/26851926 [03:25<00:00, 130903.82it/s]\n"
     ]
    }
   ],
   "source": [
    "with open('data/combined_data_4.txt', 'r') as file:\n",
    "    lines = file.readlines()\n",
    "    data = []\n",
    "    for line in tqdm(lines):\n",
    "        row = {}\n",
    "        line = line.strip('\\n')\n",
    "        if line.endswith(':'):\n",
    "            movieid = int(line[:-1])\n",
    "            continue\n",
    "        \n",
    "        line = line.split(',')\n",
    "        row['movie_id'] = movieid\n",
    "        row['user_id'] = line[0]\n",
    "        row['rating'] = line[1]\n",
    "        row['date'] = line[2]\n",
    "        \n",
    "        data.append(row)\n",
    "\n",
    "ratings = ratings.append(pd.DataFrame(data), ignore_index=True)\n",
    "# ratings.tail()"
   ]
  },
  {
   "cell_type": "code",
   "execution_count": 11,
   "metadata": {},
   "outputs": [
    {
     "name": "stdout",
     "output_type": "stream",
     "text": [
      "Total Movies in Dataset 17770\n",
      "Total Users in Dataset 480189\n"
     ]
    }
   ],
   "source": [
    "print(f'Total Movies in Dataset {len(ratings.movie_id.unique())}')\n",
    "print(f'Total Users in Dataset {len(ratings.user_id.unique())}')"
   ]
  },
  {
   "cell_type": "code",
   "execution_count": 12,
   "metadata": {},
   "outputs": [
    {
     "name": "stdout",
     "output_type": "stream",
     "text": [
      "Shape of the ratings data: (100480507, 4)\n"
     ]
    }
   ],
   "source": [
    "print(f'Shape of the ratings data: {ratings.shape}')"
   ]
  },
  {
   "cell_type": "code",
   "execution_count": 13,
   "metadata": {},
   "outputs": [
    {
     "name": "stdout",
     "output_type": "stream",
     "text": [
      "<class 'pandas.core.frame.DataFrame'>\n",
      "RangeIndex: 100480507 entries, 0 to 100480506\n",
      "Data columns (total 4 columns):\n",
      " #   Column    Dtype \n",
      "---  ------    ----- \n",
      " 0   movie_id  int64 \n",
      " 1   user_id   object\n",
      " 2   rating    object\n",
      " 3   date      object\n",
      "dtypes: int64(1), object(3)\n",
      "memory usage: 3.0+ GB\n"
     ]
    }
   ],
   "source": [
    "ratings.info()"
   ]
  },
  {
   "cell_type": "code",
   "execution_count": 14,
   "metadata": {},
   "outputs": [
    {
     "data": {
      "text/html": [
       "<div>\n",
       "<style scoped>\n",
       "    .dataframe tbody tr th:only-of-type {\n",
       "        vertical-align: middle;\n",
       "    }\n",
       "\n",
       "    .dataframe tbody tr th {\n",
       "        vertical-align: top;\n",
       "    }\n",
       "\n",
       "    .dataframe thead th {\n",
       "        text-align: right;\n",
       "    }\n",
       "</style>\n",
       "<table border=\"1\" class=\"dataframe\">\n",
       "  <thead>\n",
       "    <tr style=\"text-align: right;\">\n",
       "      <th></th>\n",
       "      <th>movie_id</th>\n",
       "      <th>user_id</th>\n",
       "      <th>rating</th>\n",
       "      <th>date</th>\n",
       "      <th>release_year</th>\n",
       "      <th>movie_name</th>\n",
       "    </tr>\n",
       "  </thead>\n",
       "  <tbody>\n",
       "    <tr>\n",
       "      <th>0</th>\n",
       "      <td>1</td>\n",
       "      <td>1488844</td>\n",
       "      <td>3</td>\n",
       "      <td>2005-09-06</td>\n",
       "      <td>2003</td>\n",
       "      <td>Dinosaur Planet</td>\n",
       "    </tr>\n",
       "    <tr>\n",
       "      <th>1</th>\n",
       "      <td>1</td>\n",
       "      <td>822109</td>\n",
       "      <td>5</td>\n",
       "      <td>2005-05-13</td>\n",
       "      <td>2003</td>\n",
       "      <td>Dinosaur Planet</td>\n",
       "    </tr>\n",
       "    <tr>\n",
       "      <th>2</th>\n",
       "      <td>1</td>\n",
       "      <td>885013</td>\n",
       "      <td>4</td>\n",
       "      <td>2005-10-19</td>\n",
       "      <td>2003</td>\n",
       "      <td>Dinosaur Planet</td>\n",
       "    </tr>\n",
       "    <tr>\n",
       "      <th>3</th>\n",
       "      <td>1</td>\n",
       "      <td>30878</td>\n",
       "      <td>4</td>\n",
       "      <td>2005-12-26</td>\n",
       "      <td>2003</td>\n",
       "      <td>Dinosaur Planet</td>\n",
       "    </tr>\n",
       "    <tr>\n",
       "      <th>4</th>\n",
       "      <td>1</td>\n",
       "      <td>823519</td>\n",
       "      <td>3</td>\n",
       "      <td>2004-05-03</td>\n",
       "      <td>2003</td>\n",
       "      <td>Dinosaur Planet</td>\n",
       "    </tr>\n",
       "  </tbody>\n",
       "</table>\n",
       "</div>"
      ],
      "text/plain": [
       "   movie_id  user_id rating        date release_year       movie_name\n",
       "0         1  1488844      3  2005-09-06         2003  Dinosaur Planet\n",
       "1         1   822109      5  2005-05-13         2003  Dinosaur Planet\n",
       "2         1   885013      4  2005-10-19         2003  Dinosaur Planet\n",
       "3         1    30878      4  2005-12-26         2003  Dinosaur Planet\n",
       "4         1   823519      3  2004-05-03         2003  Dinosaur Planet"
      ]
     },
     "execution_count": 14,
     "metadata": {},
     "output_type": "execute_result"
    }
   ],
   "source": [
    "ratings = ratings.merge(movies, on='movie_id', how='inner')\n",
    "ratings.head()"
   ]
  },
  {
   "cell_type": "code",
   "execution_count": 15,
   "metadata": {},
   "outputs": [
    {
     "name": "stdout",
     "output_type": "stream",
     "text": [
      "<class 'pandas.core.frame.DataFrame'>\n",
      "Int64Index: 100480507 entries, 0 to 100480506\n",
      "Data columns (total 6 columns):\n",
      " #   Column        Dtype \n",
      "---  ------        ----- \n",
      " 0   movie_id      int64 \n",
      " 1   user_id       object\n",
      " 2   rating        object\n",
      " 3   date          object\n",
      " 4   release_year  object\n",
      " 5   movie_name    object\n",
      "dtypes: int64(1), object(5)\n",
      "memory usage: 5.2+ GB\n"
     ]
    }
   ],
   "source": [
    "ratings.info()"
   ]
  },
  {
   "cell_type": "code",
   "execution_count": null,
   "metadata": {},
   "outputs": [],
   "source": [
    "# ratings['user_id'] = ratings['user_id'].astype(int)\n",
    "# ratings['rating'] = ratings['rating'].astype(int)\n",
    "# ratings['date'] = pd.to_datetime(ratings[\"date\"])\n",
    "# ratings['release_year'] = ratings['release_year'].astype(int)"
   ]
  },
  {
   "cell_type": "code",
   "execution_count": 18,
   "metadata": {},
   "outputs": [],
   "source": [
    "ratings['user_id'] = ratings['user_id'].astype(int)\n",
    "ratings['rating'] = ratings['rating'].astype(int)\n",
    "ratings['date'] = pd.to_datetime(ratings[\"date\"])\n",
    "# ratings['release_year'] = ratings['release_year'].astype(int)\n",
    "ratings['rating_year'] = ratings[\"date\"].dt.year\n",
    "ratings['rating_day'] = ratings[\"date\"].dt.strftime('%A')"
   ]
  },
  {
   "cell_type": "code",
   "execution_count": 19,
   "metadata": {},
   "outputs": [
    {
     "name": "stdout",
     "output_type": "stream",
     "text": [
      "<class 'pandas.core.frame.DataFrame'>\n",
      "Int64Index: 100480507 entries, 0 to 100480506\n",
      "Data columns (total 8 columns):\n",
      " #   Column        Dtype         \n",
      "---  ------        -----         \n",
      " 0   movie_id      int64         \n",
      " 1   user_id       int64         \n",
      " 2   rating        int64         \n",
      " 3   date          datetime64[ns]\n",
      " 4   release_year  object        \n",
      " 5   movie_name    object        \n",
      " 6   rating_year   int64         \n",
      " 7   rating_day    object        \n",
      "dtypes: datetime64[ns](1), int64(4), object(3)\n",
      "memory usage: 6.7+ GB\n"
     ]
    }
   ],
   "source": [
    "ratings.info()"
   ]
  },
  {
   "cell_type": "code",
   "execution_count": 20,
   "metadata": {},
   "outputs": [],
   "source": [
    "test_data = ratings.head(20)\n",
    "test_data.to_csv('data/test_data.csv', index=False)"
   ]
  },
  {
   "cell_type": "code",
   "execution_count": 21,
   "metadata": {},
   "outputs": [],
   "source": [
    "ratings.to_csv('data/ratings.csv', index=False)"
   ]
  },
  {
   "cell_type": "markdown",
   "metadata": {},
   "source": [
    "# Create Sparse Matrix"
   ]
  },
  {
   "cell_type": "code",
   "execution_count": 22,
   "metadata": {},
   "outputs": [
    {
     "name": "stdout",
     "output_type": "stream",
     "text": [
      "The shape of Sparse Matrix is: (2649430, 17771)\n"
     ]
    }
   ],
   "source": [
    "sparse_data = sp.csr_matrix((ratings.rating, (ratings.user_id, ratings.movie_id)))\n",
    "sp.save_npz('data/sparse_data.npz', sparse_data)\n",
    "print(f'The shape of Sparse Matrix is: {sparse_data.shape}')"
   ]
  },
  {
   "cell_type": "code",
   "execution_count": 24,
   "metadata": {},
   "outputs": [
    {
     "data": {
      "text/plain": [
       "[{'movie_id': 13368,\n",
       "  'user_id': '2385003',\n",
       "  'rating': '4',\n",
       "  'date': '2004-07-08'},\n",
       " {'movie_id': 13368, 'user_id': '659432', 'rating': '3', 'date': '2005-03-16'},\n",
       " {'movie_id': 13368, 'user_id': '751812', 'rating': '2', 'date': '2002-12-16'},\n",
       " {'movie_id': 13368,\n",
       "  'user_id': '2625420',\n",
       "  'rating': '2',\n",
       "  'date': '2004-05-25'},\n",
       " {'movie_id': 13368,\n",
       "  'user_id': '1650301',\n",
       "  'rating': '1',\n",
       "  'date': '2005-08-30'},\n",
       " {'movie_id': 13368,\n",
       "  'user_id': '2269227',\n",
       "  'rating': '4',\n",
       "  'date': '2005-10-27'},\n",
       " {'movie_id': 13368,\n",
       "  'user_id': '2220672',\n",
       "  'rating': '4',\n",
       "  'date': '2002-08-19'},\n",
       " {'movie_id': 13368,\n",
       "  'user_id': '2500511',\n",
       "  'rating': '4',\n",
       "  'date': '2003-08-11'},\n",
       " {'movie_id': 13368,\n",
       "  'user_id': '1452058',\n",
       "  'rating': '2',\n",
       "  'date': '2005-01-29'},\n",
       " {'movie_id': 13368,\n",
       "  'user_id': '1624891',\n",
       "  'rating': '3',\n",
       "  'date': '2002-07-27'}]"
      ]
     },
     "execution_count": 24,
     "metadata": {},
     "output_type": "execute_result"
    }
   ],
   "source": [
    "data[:10]"
   ]
  },
  {
   "cell_type": "code",
   "execution_count": null,
   "metadata": {},
   "outputs": [],
   "source": []
  }
 ],
 "metadata": {
  "kernelspec": {
   "display_name": "Python 3",
   "language": "python",
   "name": "python3"
  },
  "language_info": {
   "codemirror_mode": {
    "name": "ipython",
    "version": 3
   },
   "file_extension": ".py",
   "mimetype": "text/x-python",
   "name": "python",
   "nbconvert_exporter": "python",
   "pygments_lexer": "ipython3",
   "version": "3.9.2"
  }
 },
 "nbformat": 4,
 "nbformat_minor": 4
}
